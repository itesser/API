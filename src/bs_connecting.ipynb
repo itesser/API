{
 "cells": [
  {
   "cell_type": "code",
   "execution_count": 91,
   "metadata": {},
   "outputs": [],
   "source": [
    "import requests\n",
    "import pandas as pd\n",
    "import re\n",
    "\n",
    "## reminder: beta version was saved before I took out all the testing cells\n"
   ]
  },
  {
   "cell_type": "code",
   "execution_count": 112,
   "metadata": {},
   "outputs": [],
   "source": [
    "def check_date(date):\n",
    "    try:\n",
    "        date_pattern = r'\\d{4}-\\d{2}-\\d{2}'\n",
    "        if re.match(date_pattern, date):\n",
    "            if int(date[:4]) < 2019:\n",
    "                return f'after={date}T12%3A02%3A36.874Z'\n",
    "            else:\n",
    "                return f'before={date}T12%3A02%3A36.874Z'\n",
    "    except:\n",
    "        return ''"
   ]
  },
  {
   "cell_type": "code",
   "execution_count": 108,
   "metadata": {},
   "outputs": [],
   "source": [
    "query_date = input('enter YYYY-MM-DD for a specific date. improper date formats will show most recent songs') ## This will turn into a button on streamlit\n",
    "\n",
    "bs_url = 'https://api.beatsaver.com/maps/latest?' \n",
    "search_date_formatted = check_date(query_date)\n",
    "url_end = '&pageSize=50'\n"
   ]
  },
  {
   "cell_type": "code",
   "execution_count": 109,
   "metadata": {},
   "outputs": [],
   "source": [
    "# gets fresh data from beat saver\n",
    "response = requests.get(f'{bs_url}{search_date_formatted}{url_end}').json()"
   ]
  },
  {
   "cell_type": "markdown",
   "metadata": {},
   "source": [
    "# looking at the guts"
   ]
  },
  {
   "cell_type": "code",
   "execution_count": 96,
   "metadata": {},
   "outputs": [
    {
     "data": {
      "text/plain": [
       "{'id': '36a0d',\n",
       " 'name': 'Bishu - Bomb (feat. LeyeT)',\n",
       " 'description': 'bomb',\n",
       " 'uploader': {'id': 4341006,\n",
       "  'name': 'spinposts',\n",
       "  'avatar': 'https://cdn.beatsaver.com/avatar/4341006.jpg',\n",
       "  'type': 'SIMPLE',\n",
       "  'admin': False,\n",
       "  'curator': False,\n",
       "  'playlistUrl': 'https://api.beatsaver.com/users/id/4341006/playlist'},\n",
       " 'metadata': {'bpm': 150.0,\n",
       "  'duration': 175,\n",
       "  'songName': 'Bomb (feat. LeyeT)',\n",
       "  'songSubName': '',\n",
       "  'songAuthorName': 'Bishu',\n",
       "  'levelAuthorName': 'spinout'},\n",
       " 'stats': {'plays': 0,\n",
       "  'downloads': 0,\n",
       "  'upvotes': 0,\n",
       "  'downvotes': 0,\n",
       "  'score': 0.5},\n",
       " 'uploaded': '2023-10-22T16:41:38.056531Z',\n",
       " 'automapper': False,\n",
       " 'ranked': False,\n",
       " 'qualified': False,\n",
       " 'versions': [{'hash': 'e66cd98f4ec419aab1eef53a01ee0fd73777ed88',\n",
       "   'state': 'Published',\n",
       "   'createdAt': '2023-10-22T16:41:33.632727Z',\n",
       "   'sageScore': 3,\n",
       "   'diffs': [{'njs': 18.0,\n",
       "     'offset': -0.5,\n",
       "     'notes': 716,\n",
       "     'bombs': 0,\n",
       "     'obstacles': 374,\n",
       "     'nps': 4.232,\n",
       "     'length': 423.0,\n",
       "     'characteristic': 'Standard',\n",
       "     'difficulty': 'ExpertPlus',\n",
       "     'events': 2502,\n",
       "     'chroma': False,\n",
       "     'me': False,\n",
       "     'ne': False,\n",
       "     'cinema': False,\n",
       "     'seconds': 169.2,\n",
       "     'paritySummary': {'errors': 0, 'warns': 0, 'resets': 0},\n",
       "     'maxScore': 651475,\n",
       "     'label': 'BOMB'}],\n",
       "   'downloadURL': 'https://r2cdn.beatsaver.com/e66cd98f4ec419aab1eef53a01ee0fd73777ed88.zip',\n",
       "   'coverURL': 'https://na.cdn.beatsaver.com/e66cd98f4ec419aab1eef53a01ee0fd73777ed88.jpg',\n",
       "   'previewURL': 'https://na.cdn.beatsaver.com/e66cd98f4ec419aab1eef53a01ee0fd73777ed88.mp3'}],\n",
       " 'createdAt': '2023-10-22T16:41:33.632727Z',\n",
       " 'updatedAt': '2023-10-22T16:41:38.056531Z',\n",
       " 'lastPublishedAt': '2023-10-22T16:41:38.056531Z',\n",
       " 'tags': ['balanced', 'electronic'],\n",
       " 'bookmarked': False}"
      ]
     },
     "execution_count": 96,
     "metadata": {},
     "output_type": "execute_result"
    }
   ],
   "source": [
    "response['docs'][0] #ok, saving one cell that looks at the first song"
   ]
  },
  {
   "cell_type": "markdown",
   "metadata": {},
   "source": [
    "# functional stuff"
   ]
  },
  {
   "cell_type": "code",
   "execution_count": 99,
   "metadata": {},
   "outputs": [],
   "source": [
    "bs_data = []"
   ]
  },
  {
   "cell_type": "code",
   "execution_count": 100,
   "metadata": {},
   "outputs": [],
   "source": [
    "# makes a dictionary from the data of each song in response, then adds it to the BS data list.\n",
    "\n",
    "for i in range(len(response['docs'])):\n",
    "    song = {}\n",
    "    song['bs_map_id'] = response['docs'][i]['id']\n",
    "    song['title'] = response['docs'][i]['metadata']['songName']\n",
    "    song['artist'] = response['docs'][i]['metadata']['songAuthorName']\n",
    "    song['mapper_name'] = response['docs'][i]['uploader']['name']\n",
    "    song['mapper_id'] = response['docs'][i]['uploader']['id']\n",
    "    song['duration_seconds'] = response['docs'][i]['metadata']['duration']\n",
    "    song['auto_mapped'] = response['docs'][i]['automapper']\n",
    "    song['upload_date'] = response['docs'][i]['lastPublishedAt']\n",
    "    try: \n",
    "        song['tags'] = response['docs'][i]['tags']\n",
    "    except:\n",
    "        song['tags'] = ['none']\n",
    "    song['difficulties'] = [response['docs'][i]['versions'][0]['diffs'][x]['difficulty'] for x in range(len(response['docs'][i]['versions'][0]['diffs']))]\n",
    "    bs_data.append(song)\n"
   ]
  },
  {
   "cell_type": "code",
   "execution_count": 102,
   "metadata": {},
   "outputs": [
    {
     "data": {
      "text/plain": [
       "(50, 10)"
      ]
     },
     "execution_count": 102,
     "metadata": {},
     "output_type": "execute_result"
    }
   ],
   "source": [
    "#turn the list into a dataframe\n",
    "\n",
    "df = pd.DataFrame(bs_data)\n",
    "df.shape"
   ]
  },
  {
   "cell_type": "code",
   "execution_count": 103,
   "metadata": {},
   "outputs": [],
   "source": [
    "# Normal Export, will overwrite existing data every time:\n",
    "df.to_csv('beatsaver_songs.csv') \n",
    "\n",
    "# append export (depreciated):\n",
    "# df.to_csv('beatsaver_songs.csv', mode='a', headers=False)"
   ]
  }
 ],
 "metadata": {
  "kernelspec": {
   "display_name": "Python 3",
   "language": "python",
   "name": "python3"
  },
  "language_info": {
   "codemirror_mode": {
    "name": "ipython",
    "version": 3
   },
   "file_extension": ".py",
   "mimetype": "text/x-python",
   "name": "python",
   "nbconvert_exporter": "python",
   "pygments_lexer": "ipython3",
   "version": "3.11.4"
  }
 },
 "nbformat": 4,
 "nbformat_minor": 2
}
