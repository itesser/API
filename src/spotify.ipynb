{
 "cells": [
  {
   "cell_type": "code",
   "execution_count": 23,
   "metadata": {},
   "outputs": [
    {
     "name": "stdout",
     "output_type": "stream",
     "text": [
      "Collecting pymongo\n",
      "  Downloading pymongo-4.5.0-cp311-cp311-win_amd64.whl.metadata (22 kB)\n",
      "Collecting dnspython<3.0.0,>=1.16.0 (from pymongo)\n",
      "  Downloading dnspython-2.4.2-py3-none-any.whl.metadata (4.9 kB)\n",
      "Downloading pymongo-4.5.0-cp311-cp311-win_amd64.whl (468 kB)\n",
      "   ---------------------------------------- 0.0/468.2 kB ? eta -:--:--\n",
      "   ------------------- -------------------- 225.3/468.2 kB 4.6 MB/s eta 0:00:01\n",
      "   ---------------------------------------- 468.2/468.2 kB 4.9 MB/s eta 0:00:00\n",
      "Downloading dnspython-2.4.2-py3-none-any.whl (300 kB)\n",
      "   ---------------------------------------- 0.0/300.4 kB ? eta -:--:--\n",
      "   ---------------------------------------- 300.4/300.4 kB 9.4 MB/s eta 0:00:00\n",
      "Installing collected packages: dnspython, pymongo\n",
      "Successfully installed dnspython-2.4.2 pymongo-4.5.0\n"
     ]
    }
   ],
   "source": [
    "# in case I need to install anything else\n",
    "! pip install pymongo"
   ]
  },
  {
   "cell_type": "code",
   "execution_count": 15,
   "metadata": {},
   "outputs": [],
   "source": [
    "import spotipy\n",
    "from dotenv import load_dotenv\n",
    "import os\n",
    "import pandas as pd\n",
    "\n"
   ]
  },
  {
   "cell_type": "code",
   "execution_count": 16,
   "metadata": {},
   "outputs": [],
   "source": [
    "#Authentication - without user\n",
    "load_dotenv()\n",
    "\n",
    "spot_id = os.getenv(\"SPOTCLIENT\")\n",
    "spot_key = os.getenv(\"SPOTSECRET\")\n",
    "client_credentials_manager = spotipy.SpotifyClientCredentials(client_id=spot_id, client_secret=spot_key)\n",
    "sp = spotipy.Spotify(client_credentials_manager = client_credentials_manager)"
   ]
  },
  {
   "cell_type": "code",
   "execution_count": null,
   "metadata": {},
   "outputs": [],
   "source": [
    "# from api documentation, but we are doing a no-user version right now\n",
    "'''\n",
    "sp_oauth = SpotifyOAuth(client_id=SPOTCLIENT, client_secret=SPOTSECRET, redirect_uri=REDIRECT_URI, scope=SCOPE)  \n",
    "  \n",
    "access_token = sp_oauth.get_access_token()  \n",
    "refresh_token = sp_oauth.get_refresh_token()  \n",
    "'''"
   ]
  },
  {
   "cell_type": "markdown",
   "metadata": {},
   "source": [
    "# Pulling in BS data"
   ]
  },
  {
   "cell_type": "code",
   "execution_count": 17,
   "metadata": {},
   "outputs": [],
   "source": [
    "# import the beat saver csv, \n",
    "bs_data = pd.read_csv('beatsaver_songs.csv')\n",
    "\n",
    "# verification column seems unnecessary right now\n",
    "# bs_data['spotified'] = False\n"
   ]
  },
  {
   "cell_type": "code",
   "execution_count": 22,
   "metadata": {},
   "outputs": [
    {
     "data": {
      "text/plain": [
       "0                                         ['bass trap']\n",
       "1                                    ['art pop', 'pop']\n",
       "2                                          ['speedrun']\n",
       "3               ['anime rock', 'denpa-kei', 'vocaloid']\n",
       "4        ['alternative metal', 'pop punk', 'rap metal']\n",
       "5                                                    []\n",
       "6                                                    []\n",
       "7                        ['japanese vgm', 'sound team']\n",
       "8                                          ['hardwave']\n",
       "9                                       ['rhythm game']\n",
       "10                         ['k-pop', 'k-pop boy group']\n",
       "11                                 ['otacore', 'pixel']\n",
       "12                      [\"australian children's music\"]\n",
       "13                                                   []\n",
       "14                       ['cyberpunk', 'dark clubbing']\n",
       "15                                                   []\n",
       "16                                            ['djent']\n",
       "17    ['hip hop', 'melodic rap', 'philly rap', 'rage...\n",
       "18                                     ['japanese r&b']\n",
       "19                ['japanese electropop', 'pov: indie']\n",
       "20    ['j-ambient', 'japanese electronic', 'japanese...\n",
       "21                                                   []\n",
       "22                                                   []\n",
       "23                                                   []\n",
       "24    ['alternative metal', 'nu metal', 'rap metal',...\n",
       "25                             ['idol rock', 'j-pixie']\n",
       "26            ['c-pop', 'cantopop', 'classic cantopop']\n",
       "27      ['russian pop', 'russian punk', 'russian rock']\n",
       "28    ['chillstep', 'complextro', 'filthstep', 'uk d...\n",
       "29                                                  NaN\n",
       "30                                                  NaN\n",
       "31                                 ['otacore', 'pixel']\n",
       "32                                    ['griot', 'kora']\n",
       "33                                                   []\n",
       "34    ['ccm', 'christian alternative rock', 'christi...\n",
       "35                       ['thai pop', 'thai viral pop']\n",
       "36    ['kentucky indie', 'kentucky roots', 'outlaw c...\n",
       "37                                                   []\n",
       "38                                           ['j-core']\n",
       "39                                         ['speedrun']\n",
       "40                                    ['aesthetic rap']\n",
       "41                                        ['dariacore']\n",
       "42                         ['denpa-kei', 'rhythm game']\n",
       "43                                 ['otacore', 'pixel']\n",
       "44                                                   []\n",
       "45                                        ['eurodance']\n",
       "46                                             ['meme']\n",
       "47                        ['post-teen pop', 'teen pop']\n",
       "48                                                   []\n",
       "49                                                   []\n",
       "Name: artist_genres, dtype: object"
      ]
     },
     "execution_count": 22,
     "metadata": {},
     "output_type": "execute_result"
    }
   ],
   "source": [
    "bs_data['artist_genres']"
   ]
  },
  {
   "cell_type": "code",
   "execution_count": 18,
   "metadata": {},
   "outputs": [],
   "source": [
    "def get_spot_data(artist, title):\n",
    "    '''Transforms Beat Saber Artist and Title into a spotify Track ID'''\n",
    "    spot_search = sp.search(f'{artist} {title}')\n",
    "    return spot_search['tracks']['items'][0]['id']\n",
    "\n",
    "def all_spot_track_info(sp_id):\n",
    "    '''Uses spotify Track ID to get details on that track'''\n",
    "    return sp.track(sp_id)\n",
    "\n",
    "def get_spot_audio(sp_id):\n",
    "    '''Uses spotify track ID to get audio features of that track'''\n",
    "    return sp.audio_features(sp_id)\n",
    "\n",
    "def get_artist_info(art_id):\n",
    "    '''Uses spotify Artist ID (from Track) to get artist data (for genre)'''\n",
    "    return sp.artist(art_id)\n"
   ]
  },
  {
   "cell_type": "code",
   "execution_count": 19,
   "metadata": {},
   "outputs": [
    {
     "name": "stderr",
     "output_type": "stream",
     "text": [
      "C:\\Users\\Sid\\AppData\\Local\\Temp\\ipykernel_19260\\3778182616.py:10: FutureWarning: Setting an item of incompatible dtype is deprecated and will raise in a future error of pandas. Value '6oFP5HK8RzPoW2puPSR3bz' has dtype incompatible with float64, please explicitly cast to a compatible dtype first.\n",
      "  bs_data.loc[bs_data.bs_map_id == bs_data.bs_map_id[i], 'spotify_id'] = spot_result\n",
      "C:\\Users\\Sid\\AppData\\Local\\Temp\\ipykernel_19260\\3778182616.py:11: FutureWarning: Setting an item of incompatible dtype is deprecated and will raise in a future error of pandas. Value 'Bomb' has dtype incompatible with float64, please explicitly cast to a compatible dtype first.\n",
      "  bs_data.loc[bs_data.bs_map_id == bs_data.bs_map_id[i], 'sp_title'] = track_dict['name']\n",
      "C:\\Users\\Sid\\AppData\\Local\\Temp\\ipykernel_19260\\3778182616.py:12: FutureWarning: Setting an item of incompatible dtype is deprecated and will raise in a future error of pandas. Value 'Bishu' has dtype incompatible with float64, please explicitly cast to a compatible dtype first.\n",
      "  bs_data.loc[bs_data.bs_map_id == bs_data.bs_map_id[i], 'sp_artist'] = track_dict['artists'][0]['name']\n",
      "C:\\Users\\Sid\\AppData\\Local\\Temp\\ipykernel_19260\\3778182616.py:13: FutureWarning: Setting an item of incompatible dtype is deprecated and will raise in a future error of pandas. Value '1DzQInbDVhE9Lh5s6T0DUL' has dtype incompatible with float64, please explicitly cast to a compatible dtype first.\n",
      "  bs_data.loc[bs_data.bs_map_id == bs_data.bs_map_id[i], 'sp_artist_id'] = track_dict['artists'][0]['id']\n",
      "C:\\Users\\Sid\\AppData\\Local\\Temp\\ipykernel_19260\\3778182616.py:15: FutureWarning: Setting an item of incompatible dtype is deprecated and will raise in a future error of pandas. Value '['bass trap']' has dtype incompatible with float64, please explicitly cast to a compatible dtype first.\n",
      "  bs_data.loc[bs_data.bs_map_id == bs_data.bs_map_id[i], 'artist_genres'] = str(artist_info['genres'])\n",
      "C:\\Users\\Sid\\AppData\\Local\\Temp\\ipykernel_19260\\3778182616.py:18: FutureWarning: Setting an item of incompatible dtype is deprecated and will raise in a future error of pandas. Value 'Bomb' has dtype incompatible with float64, please explicitly cast to a compatible dtype first.\n",
      "  bs_data.loc[bs_data.bs_map_id == bs_data.bs_map_id[i], 'album'] = track_dict['album']['name']\n",
      "C:\\Users\\Sid\\AppData\\Local\\Temp\\ipykernel_19260\\3778182616.py:19: FutureWarning: Setting an item of incompatible dtype is deprecated and will raise in a future error of pandas. Value '2017-10-04' has dtype incompatible with float64, please explicitly cast to a compatible dtype first.\n",
      "  bs_data.loc[bs_data.bs_map_id == bs_data.bs_map_id[i], 'album_released'] = track_dict['album']['release_date']\n",
      "C:\\Users\\Sid\\AppData\\Local\\Temp\\ipykernel_19260\\3778182616.py:20: FutureWarning: Setting an item of incompatible dtype is deprecated and will raise in a future error of pandas. Value 'album' has dtype incompatible with float64, please explicitly cast to a compatible dtype first.\n",
      "  bs_data.loc[bs_data.bs_map_id == bs_data.bs_map_id[i], 'album_type'] = track_dict['album']['type']\n",
      "C:\\Users\\Sid\\AppData\\Local\\Temp\\ipykernel_19260\\3778182616.py:27: FutureWarning: Setting an item of incompatible dtype is deprecated and will raise in a future error of pandas. Value 'True' has dtype incompatible with float64, please explicitly cast to a compatible dtype first.\n",
      "  bs_data.loc[bs_data.bs_map_id == bs_data.bs_map_id[i], 'artist_match'] = (bs_data['artist'].iloc[i].lower().strip() == bs_data['sp_artist'].iloc[i].lower().strip()) or ((bs_data['artist'].iloc[i].lower().strip() in bs_data['sp_artist'].iloc[i].lower().strip())) or (bs_data['sp_artist'].iloc[i].lower().strip()) in (bs_data['artist'].iloc[i].lower().strip())\n",
      "C:\\Users\\Sid\\AppData\\Local\\Temp\\ipykernel_19260\\3778182616.py:28: FutureWarning: Setting an item of incompatible dtype is deprecated and will raise in a future error of pandas. Value 'True' has dtype incompatible with float64, please explicitly cast to a compatible dtype first.\n",
      "  bs_data.loc[bs_data.bs_map_id == bs_data.bs_map_id[i], 'title_match'] = (bs_data['title'].iloc[i].lower().strip() == bs_data['sp_title'].iloc[i].lower().strip()) or ((bs_data['title'].iloc[i].lower().strip() in bs_data['sp_title'].iloc[i].lower().strip())) or (bs_data['sp_title'].iloc[i].lower().strip()) in (bs_data['title'].iloc[i].lower().strip())\n"
     ]
    }
   ],
   "source": [
    "# getting ahead of myself making it a loop\n",
    "#for i in range(len(bs_data)):\n",
    "\n",
    "for i in range(len(bs_data)):\n",
    "    title = bs_data['title'].iloc[i]\n",
    "    artist = bs_data['artist'].iloc[i]\n",
    "    try:\n",
    "        spot_result = get_spot_data(artist, title)\n",
    "        track_dict = all_spot_track_info(spot_result)\n",
    "        bs_data.loc[bs_data.bs_map_id == bs_data.bs_map_id[i], 'spotify_id'] = spot_result\n",
    "        bs_data.loc[bs_data.bs_map_id == bs_data.bs_map_id[i], 'sp_title'] = track_dict['name']\n",
    "        bs_data.loc[bs_data.bs_map_id == bs_data.bs_map_id[i], 'sp_artist'] = track_dict['artists'][0]['name']\n",
    "        bs_data.loc[bs_data.bs_map_id == bs_data.bs_map_id[i], 'sp_artist_id'] = track_dict['artists'][0]['id']\n",
    "        artist_info = get_artist_info(track_dict['artists'][0]['id'])\n",
    "        bs_data.loc[bs_data.bs_map_id == bs_data.bs_map_id[i], 'artist_genres'] = str(artist_info['genres'])\n",
    "        bs_data.loc[bs_data.bs_map_id == bs_data.bs_map_id[i], 'album'] = track_dict['album']['name']\n",
    "        bs_data.loc[bs_data.bs_map_id == bs_data.bs_map_id[i], 'album_released'] = track_dict['album']['release_date']\n",
    "        bs_data.loc[bs_data.bs_map_id == bs_data.bs_map_id[i], 'album_type'] = track_dict['album']['type']\n",
    "        bs_data.loc[bs_data.bs_map_id == bs_data.bs_map_id[i], 'sp_duration'] = track_dict['duration_ms']\n",
    "        track_audio = get_spot_audio(spot_result)\n",
    "        audio_vars = ['danceability', 'energy', 'key','loudness','mode', 'speechiness','acousticness','instrumentalness', 'liveness','valence','tempo','time_signature']\n",
    "        for x in audio_vars:\n",
    "            bs_data.loc[bs_data.bs_map_id == bs_data.bs_map_id[i], f'sp_{x}'] = track_audio[0][x]\n",
    "        bs_data.loc[bs_data.bs_map_id == bs_data.bs_map_id[i], 'sp_popularity'] = track_dict['popularity']\n",
    "        bs_data.loc[bs_data.bs_map_id == bs_data.bs_map_id[i], 'artist_match'] = (bs_data['artist'].iloc[i].lower().strip() == bs_data['sp_artist'].iloc[i].lower().strip()) or ((bs_data['artist'].iloc[i].lower().strip() in bs_data['sp_artist'].iloc[i].lower().strip())) or (bs_data['sp_artist'].iloc[i].lower().strip()) in (bs_data['artist'].iloc[i].lower().strip())\n",
    "        bs_data.loc[bs_data.bs_map_id == bs_data.bs_map_id[i], 'title_match'] = (bs_data['title'].iloc[i].lower().strip() == bs_data['sp_title'].iloc[i].lower().strip()) or ((bs_data['title'].iloc[i].lower().strip() in bs_data['sp_title'].iloc[i].lower().strip())) or (bs_data['sp_title'].iloc[i].lower().strip()) in (bs_data['title'].iloc[i].lower().strip())\n",
    "    except:\n",
    "        bs_data.loc[bs_data.bs_map_id == bs_data.bs_map_id[i], 'spotify_id'] = '000'\n",
    "    \n"
   ]
  },
  {
   "cell_type": "markdown",
   "metadata": {},
   "source": [
    "# cleanup and export"
   ]
  },
  {
   "cell_type": "code",
   "execution_count": 204,
   "metadata": {},
   "outputs": [],
   "source": [
    "# fruits[\"favorite_fruits\"] = fruits[\"favorite_fruits\"].apply(eval)\n",
    "\n",
    "# genres had to be transformed into a string, changing it back into a list\n",
    "try:\n",
    "    bs_data['artist_genres'] = bs_data['artist_genres'].apply(eval)\n",
    "except:\n",
    "    pass\n",
    "\n",
    "bs_data['duration_difference'] = abs(bs_data['sp_duration']/1000 - bs_data['duration_seconds'])\n",
    "bs_data['match_conclusion'] = ((bs_data[['artist_match','title_match']].all(axis=1)) | \n",
    "                               ((bs_data['duration_difference'] < 20) & (bs_data[['artist_match', 'title_match']].any(axis=1)))).astype(bool)"
   ]
  },
  {
   "cell_type": "code",
   "execution_count": 207,
   "metadata": {},
   "outputs": [],
   "source": [
    "# establishing data file:\n",
    "# bs_data.to_csv(r'all_song_data.csv', index=False)\n",
    "\n",
    "# addint to data file:\n",
    "bs_data.to_csv(r'all_song_data.csv', mode='a', header=False, index=False)"
   ]
  }
 ],
 "metadata": {
  "kernelspec": {
   "display_name": "Python 3",
   "language": "python",
   "name": "python3"
  },
  "language_info": {
   "codemirror_mode": {
    "name": "ipython",
    "version": 3
   },
   "file_extension": ".py",
   "mimetype": "text/x-python",
   "name": "python",
   "nbconvert_exporter": "python",
   "pygments_lexer": "ipython3",
   "version": "3.11.4"
  }
 },
 "nbformat": 4,
 "nbformat_minor": 2
}
