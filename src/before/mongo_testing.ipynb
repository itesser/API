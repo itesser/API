{
 "cells": [
  {
   "cell_type": "code",
   "execution_count": 59,
   "metadata": {},
   "outputs": [],
   "source": [
    "from to_mongo import ToMongo\n",
    "from datetime import datetime, date\n",
    "from beats import Beats\n",
    "import requests\n",
    "import pymongo"
   ]
  },
  {
   "cell_type": "code",
   "execution_count": 69,
   "metadata": {},
   "outputs": [],
   "source": [
    "alf = ToMongo()\n",
    "bs = Beats()\n"
   ]
  },
  {
   "cell_type": "code",
   "execution_count": 8,
   "metadata": {},
   "outputs": [
    {
     "data": {
      "text/plain": [
       "<pymongo.results.UpdateResult at 0x216ceddafe0>"
      ]
     },
     "execution_count": 8,
     "metadata": {},
     "output_type": "execute_result"
    }
   ],
   "source": [
    "#only needed to run this update once.\n",
    "'''\n",
    "alf.songs.update_many({}, {\"$set\": {\"upvotes\": 0}})\n",
    "alf.songs.update_many({}, {\"$set\": {\"downvotes\": 0}})\n",
    "alf.songs.update_many({}, {\"$set\": {\"score\": 0}})\n",
    "alf.songs.update_many({}, {\"$set\": {\"last_fetched\": \"2023-10-01\"}})\n",
    "'''"
   ]
  },
  {
   "cell_type": "code",
   "execution_count": 33,
   "metadata": {},
   "outputs": [
    {
     "data": {
      "text/plain": [
       "'2023-10-30'"
      ]
     },
     "execution_count": 33,
     "metadata": {},
     "output_type": "execute_result"
    }
   ],
   "source": [
    "date_format = str(date.today())\n",
    "date_format"
   ]
  },
  {
   "cell_type": "code",
   "execution_count": 55,
   "metadata": {},
   "outputs": [
    {
     "data": {
      "text/plain": [
       "datetime.datetime(2023, 10, 30, 13, 30, 19, 205005)"
      ]
     },
     "execution_count": 55,
     "metadata": {},
     "output_type": "execute_result"
    }
   ],
   "source": [
    "datetime.now()"
   ]
  },
  {
   "cell_type": "code",
   "execution_count": 65,
   "metadata": {},
   "outputs": [
    {
     "data": {
      "text/plain": [
       "'2023-10-01'"
      ]
     },
     "execution_count": 65,
     "metadata": {},
     "output_type": "execute_result"
    }
   ],
   "source": [
    "oldest_date = alf.songs.find().sort('last_fetched', pymongo.ASCENDING).limit(1)[0]['last_fetched']\n",
    "\n",
    "oldest_date"
   ]
  },
  {
   "cell_type": "code",
   "execution_count": 67,
   "metadata": {},
   "outputs": [
    {
     "data": {
      "text/plain": [
       "'1c7d1'"
      ]
     },
     "execution_count": 67,
     "metadata": {},
     "output_type": "execute_result"
    }
   ],
   "source": [
    "\n",
    "id_to_update = alf.songs.find_one({'last_fetched': {\"$gt\": oldest_date}})['bs_map_id']\n",
    "id_to_update"
   ]
  },
  {
   "cell_type": "code",
   "execution_count": null,
   "metadata": {},
   "outputs": [],
   "source": [
    "\n",
    "id_to_update\n",
    "map_stats = bs.get_stats(id_to_update)\n",
    "\n",
    "alf.songs.update_one({'bs_map_id': id_to_update}, {'$set': {\n",
    "    'upvotes': map_stats[0],\n",
    "    'downvotes': map_stats[1],\n",
    "    'score': map_stats[2],\n",
    "    'last_fetched': str(date.today())\n",
    "}})\n",
    "\n"
   ]
  },
  {
   "cell_type": "code",
   "execution_count": 71,
   "metadata": {},
   "outputs": [],
   "source": [
    "alf.client.close()"
   ]
  }
 ],
 "metadata": {
  "kernelspec": {
   "display_name": "venv",
   "language": "python",
   "name": "python3"
  },
  "language_info": {
   "codemirror_mode": {
    "name": "ipython",
    "version": 3
   },
   "file_extension": ".py",
   "mimetype": "text/x-python",
   "name": "python",
   "nbconvert_exporter": "python",
   "pygments_lexer": "ipython3",
   "version": "3.11.4"
  }
 },
 "nbformat": 4,
 "nbformat_minor": 2
}
