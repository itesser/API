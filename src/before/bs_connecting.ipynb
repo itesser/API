{
 "cells": [
  {
   "cell_type": "code",
   "execution_count": 7,
   "metadata": {},
   "outputs": [],
   "source": [
    "import requests\n",
    "import pandas as pd\n",
    "import re\n",
    "from datetime import date\n",
    "\n",
    "## reminder: beta version was saved before I took out all the testing cells\n",
    "\n",
    "## 10/30 This version adds map stats and \"date queried\""
   ]
  },
  {
   "cell_type": "code",
   "execution_count": 2,
   "metadata": {},
   "outputs": [],
   "source": [
    "def check_date(date):\n",
    "    try:\n",
    "        date_pattern = r'\\d{4}-\\d{2}-\\d{2}'\n",
    "        if re.match(date_pattern, date):\n",
    "            if int(date[:4]) < 2019:\n",
    "                return f'after={date}T12%3A02%3A36.874Z'\n",
    "            else:\n",
    "                return f'before={date}T12%3A02%3A36.874Z'\n",
    "    except:\n",
    "        return ''"
   ]
  },
  {
   "cell_type": "code",
   "execution_count": 3,
   "metadata": {},
   "outputs": [],
   "source": [
    "query_date = input('enter YYYY-MM-DD for a specific date. improper date formats will show most recent songs') ## This will turn into a button on streamlit\n",
    "\n",
    "bs_url = 'https://api.beatsaver.com/maps/latest?' \n",
    "search_date_formatted = check_date(query_date)\n",
    "url_end = '&pageSize=50'\n"
   ]
  },
  {
   "cell_type": "code",
   "execution_count": 4,
   "metadata": {},
   "outputs": [],
   "source": [
    "# gets fresh data from beat saver\n",
    "response = requests.get(f'{bs_url}{search_date_formatted}{url_end}').json()"
   ]
  },
  {
   "cell_type": "markdown",
   "metadata": {},
   "source": [
    "# looking at the guts"
   ]
  },
  {
   "cell_type": "code",
   "execution_count": 5,
   "metadata": {},
   "outputs": [
    {
     "data": {
      "text/plain": [
       "{'id': '31ff7',\n",
       " 'name': 'Pirendora - Midnight Factory',\n",
       " 'description': \"🌙for rank🌟\\n\\n🌉Original🌃\\nhttps://soundcloud.com/pirendora/midnight-factory\\n\\nIt just so happens that I was able to upload it on my birthday.\\nThis map will be one of the most important maps for me!\\n\\nTest : @yas  @yaomin\\nRT MOD: @ThySpoon, @yabje\\nYou have improved this map for the better, thank you!\\n\\n2023/06/13 Re Publish!\\nRT MOD received.\\n\\n2023/07/16 Re Publish!\\nRT MOD received. Correction of minor details.\\n\\n2023/07/26\\nI'm now Qualified!\\n\\n2023/08/09\\nRank!\",\n",
       " 'uploader': {'id': 4284625,\n",
       "  'name': 'zeon-gitien',\n",
       "  'hash': '6066e91fb85f2d00062d465f',\n",
       "  'avatar': 'https://cdn.beatsaver.com/avatar/b2fd3baa5620c310a7624475e11e83ea0a5ba1ed.png',\n",
       "  'type': 'DISCORD',\n",
       "  'admin': False,\n",
       "  'curator': False,\n",
       "  'verifiedMapper': True,\n",
       "  'playlistUrl': 'https://api.beatsaver.com/users/id/4284625/playlist'},\n",
       " 'metadata': {'bpm': 153.0,\n",
       "  'duration': 144,\n",
       "  'songName': 'Midnight Factory',\n",
       "  'songSubName': '',\n",
       "  'songAuthorName': 'Pirendora',\n",
       "  'levelAuthorName': 'zeon'},\n",
       " 'stats': {'plays': 0,\n",
       "  'downloads': 0,\n",
       "  'upvotes': 223,\n",
       "  'downvotes': 31,\n",
       "  'score': 0.8603},\n",
       " 'uploaded': '2023-05-01T11:07:09.930823Z',\n",
       " 'automapper': False,\n",
       " 'ranked': True,\n",
       " 'qualified': False,\n",
       " 'versions': [{'hash': 'ed5ab7e0959e7ba3bdde8632c1e4418dc741bcf8',\n",
       "   'state': 'Published',\n",
       "   'createdAt': '2023-07-16T07:54:54.396272Z',\n",
       "   'sageScore': 5,\n",
       "   'diffs': [{'njs': 16.0,\n",
       "     'offset': -0.215,\n",
       "     'notes': 414,\n",
       "     'bombs': 37,\n",
       "     'obstacles': 539,\n",
       "     'nps': 2.991,\n",
       "     'length': 353.0,\n",
       "     'characteristic': 'Standard',\n",
       "     'difficulty': 'Hard',\n",
       "     'events': 3520,\n",
       "     'chroma': False,\n",
       "     'me': False,\n",
       "     'ne': False,\n",
       "     'cinema': False,\n",
       "     'seconds': 138.431,\n",
       "     'paritySummary': {'errors': 0, 'warns': 0, 'resets': 8},\n",
       "     'stars': 3.33,\n",
       "     'maxScore': 373635},\n",
       "    {'njs': 18.0,\n",
       "     'offset': -0.47,\n",
       "     'notes': 679,\n",
       "     'bombs': 144,\n",
       "     'obstacles': 344,\n",
       "     'nps': 4.905,\n",
       "     'length': 353.0,\n",
       "     'characteristic': 'Standard',\n",
       "     'difficulty': 'Expert',\n",
       "     'events': 3520,\n",
       "     'chroma': False,\n",
       "     'me': False,\n",
       "     'ne': False,\n",
       "     'cinema': False,\n",
       "     'seconds': 138.431,\n",
       "     'paritySummary': {'errors': 0, 'warns': 0, 'resets': 4},\n",
       "     'stars': 6.3,\n",
       "     'maxScore': 617435},\n",
       "    {'njs': 20.0,\n",
       "     'offset': -0.7,\n",
       "     'notes': 1089,\n",
       "     'bombs': 69,\n",
       "     'obstacles': 269,\n",
       "     'nps': 7.867,\n",
       "     'length': 353.0,\n",
       "     'characteristic': 'Standard',\n",
       "     'difficulty': 'ExpertPlus',\n",
       "     'events': 3520,\n",
       "     'chroma': False,\n",
       "     'me': False,\n",
       "     'ne': False,\n",
       "     'cinema': False,\n",
       "     'seconds': 138.431,\n",
       "     'paritySummary': {'errors': 8, 'warns': 28, 'resets': 17},\n",
       "     'stars': 10.3,\n",
       "     'maxScore': 994635,\n",
       "     'label': 'full operation'}],\n",
       "   'downloadURL': 'https://r2cdn.beatsaver.com/ed5ab7e0959e7ba3bdde8632c1e4418dc741bcf8.zip',\n",
       "   'coverURL': 'https://na.cdn.beatsaver.com/ed5ab7e0959e7ba3bdde8632c1e4418dc741bcf8.jpg',\n",
       "   'previewURL': 'https://na.cdn.beatsaver.com/ed5ab7e0959e7ba3bdde8632c1e4418dc741bcf8.mp3'}],\n",
       " 'curator': {'id': 11586,\n",
       "  'name': 'Kansas',\n",
       "  'hash': '5f813ecf6fd2400006d03fdd',\n",
       "  'avatar': 'https://cdn.beatsaver.com/avatar/01f95562c3153874aaa65422462281189fe4a59e.png',\n",
       "  'type': 'DISCORD',\n",
       "  'admin': False,\n",
       "  'curator': False,\n",
       "  'curatorTab': True,\n",
       "  'verifiedMapper': True,\n",
       "  'playlistUrl': 'https://api.beatsaver.com/users/id/11586/playlist'},\n",
       " 'curatedAt': '2023-05-11T05:18:27.114465Z',\n",
       " 'createdAt': '2023-05-01T10:55:38.514069Z',\n",
       " 'updatedAt': '2023-08-08T18:06:58.978124Z',\n",
       " 'lastPublishedAt': '2023-07-16T07:56:59.261817Z',\n",
       " 'tags': ['tech', 'balanced'],\n",
       " 'bookmarked': False}"
      ]
     },
     "execution_count": 5,
     "metadata": {},
     "output_type": "execute_result"
    }
   ],
   "source": [
    "response['docs'][0] #ok, saving one cell that looks at the first song"
   ]
  },
  {
   "cell_type": "code",
   "execution_count": null,
   "metadata": {},
   "outputs": [],
   "source": [
    "response['docs'][i]['stats']['upvotes']\n",
    "response['docs'][i]['stats']['downvotes']\n",
    "response['docs'][i]['stats']['score']"
   ]
  },
  {
   "cell_type": "code",
   "execution_count": 9,
   "metadata": {},
   "outputs": [
    {
     "name": "stdout",
     "output_type": "stream",
     "text": [
      "2023-10-30\n"
     ]
    }
   ],
   "source": [
    "now = date.today()\n",
    "\n",
    "print(now)"
   ]
  },
  {
   "cell_type": "markdown",
   "metadata": {},
   "source": [
    "# functional stuff"
   ]
  },
  {
   "cell_type": "code",
   "execution_count": 99,
   "metadata": {},
   "outputs": [],
   "source": [
    "bs_data = []"
   ]
  },
  {
   "cell_type": "code",
   "execution_count": 100,
   "metadata": {},
   "outputs": [],
   "source": [
    "# makes a dictionary from the data of each song in response, then adds it to the BS data list.\n",
    "\n",
    "for i in range(len(response['docs'])):\n",
    "    song = {}\n",
    "    song['bs_map_id'] = response['docs'][i]['id']\n",
    "    song['title'] = response['docs'][i]['metadata']['songName']\n",
    "    song['artist'] = response['docs'][i]['metadata']['songAuthorName']\n",
    "    song['mapper_name'] = response['docs'][i]['uploader']['name']\n",
    "    song['mapper_id'] = response['docs'][i]['uploader']['id']\n",
    "    song['duration_seconds'] = response['docs'][i]['metadata']['duration']\n",
    "    song['auto_mapped'] = response['docs'][i]['automapper']\n",
    "    song['upload_date'] = response['docs'][i]['lastPublishedAt']\n",
    "    try: \n",
    "        song['tags'] = response['docs'][i]['tags']\n",
    "    except:\n",
    "        song['tags'] = ['none']\n",
    "    song['difficulties'] = [response['docs'][i]['versions'][0]['diffs'][x]['difficulty'] for x in range(len(response['docs'][i]['versions'][0]['diffs']))]\n",
    "    bs_data.append(song)\n"
   ]
  },
  {
   "cell_type": "code",
   "execution_count": 102,
   "metadata": {},
   "outputs": [
    {
     "data": {
      "text/plain": [
       "(50, 10)"
      ]
     },
     "execution_count": 102,
     "metadata": {},
     "output_type": "execute_result"
    }
   ],
   "source": [
    "#turn the list into a dataframe\n",
    "\n",
    "df = pd.DataFrame(bs_data)\n",
    "df.shape"
   ]
  },
  {
   "cell_type": "code",
   "execution_count": 103,
   "metadata": {},
   "outputs": [],
   "source": [
    "# Normal Export, will overwrite existing data every time:\n",
    "df.to_csv('beatsaver_songs.csv') \n",
    "\n",
    "# append export (depreciated):\n",
    "# df.to_csv('beatsaver_songs.csv', mode='a', headers=False)"
   ]
  }
 ],
 "metadata": {
  "kernelspec": {
   "display_name": "Python 3",
   "language": "python",
   "name": "python3"
  },
  "language_info": {
   "codemirror_mode": {
    "name": "ipython",
    "version": 3
   },
   "file_extension": ".py",
   "mimetype": "text/x-python",
   "name": "python",
   "nbconvert_exporter": "python",
   "pygments_lexer": "ipython3",
   "version": "3.11.4"
  }
 },
 "nbformat": 4,
 "nbformat_minor": 2
}
